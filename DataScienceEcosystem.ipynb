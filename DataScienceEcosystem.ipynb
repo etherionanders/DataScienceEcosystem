{
 "cells": [
  {
   "cell_type": "markdown",
   "id": "dbeca772-cc73-45fd-a6f2-71fbe7fdd9b1",
   "metadata": {
    "tags": []
   },
   "source": [
    "# Data Science Tools and Ecosystem"
   ]
  },
  {
   "cell_type": "markdown",
   "id": "e1c201ea-6f6e-436b-a718-0190c0bb561f",
   "metadata": {},
   "source": [
    "In this notebook, Data Science Tools and Ecosystem are summarized."
   ]
  },
  {
   "cell_type": "markdown",
   "id": "ddb50751-10b9-4f3a-a2dd-9e160be9c675",
   "metadata": {
    "tags": []
   },
   "source": [
    "**Objectives:**\n",
    "\n",
    "* List popular languages for Data Science.\n",
    "* List some data science oriented libraries.\n",
    "* List three development environment open source tools used in data science."
   ]
  },
  {
   "cell_type": "markdown",
   "id": "94f167b7-5dbd-455d-a2f6-f5117d255c61",
   "metadata": {},
   "source": [
    "Some of the popular languages that Data Scientists use are:"
   ]
  },
  {
   "cell_type": "markdown",
   "id": "1a399b87-4a50-4b5b-9e41-62a25728d5f1",
   "metadata": {},
   "source": [
    "Some of the commonly used libraries used by Data Scientists include:"
   ]
  },
  {
   "cell_type": "markdown",
   "id": "ca66d38b-289d-40da-8fe7-84d2c608b20b",
   "metadata": {},
   "source": [
    "1. NumPy\n",
    "2. SciPy\n",
    "3. Pandas"
   ]
  },
  {
   "cell_type": "markdown",
   "id": "0ec4e564-e0a6-4c72-9bb8-8f90bbe3577f",
   "metadata": {},
   "source": [
    "| Data Science Tools |\n",
    "| ------------------ |\n",
    "| Python |\n",
    "| R |\n",
    "| Jupyter |\n",
    "| Pandas |"
   ]
  },
  {
   "cell_type": "markdown",
   "id": "f4d0000f-9684-4b45-bc89-b562ca5ea9da",
   "metadata": {
    "tags": []
   },
   "source": [
    "### Below are a few examples of evaluating arithmetic expressions in Python"
   ]
  },
  {
   "cell_type": "code",
   "execution_count": 3,
   "id": "be3ce9c1-281c-4dcd-aeb1-5bbedbc672f2",
   "metadata": {
    "tags": []
   },
   "outputs": [
    {
     "data": {
      "text/plain": [
       "17"
      ]
     },
     "execution_count": 3,
     "metadata": {},
     "output_type": "execute_result"
    }
   ],
   "source": [
    "# This a simple arithmetic expression to mutiply then add integers\n",
    "(3*4)+5"
   ]
  },
  {
   "cell_type": "code",
   "execution_count": 1,
   "id": "5e6fdca9-39e6-4476-a15c-b0aff2198816",
   "metadata": {
    "tags": []
   },
   "outputs": [
    {
     "data": {
      "text/plain": [
       "3.3333333333333335"
      ]
     },
     "execution_count": 1,
     "metadata": {},
     "output_type": "execute_result"
    }
   ],
   "source": [
    "# This will convert 200 minutes to hours by diving by 60\n",
    "200/60"
   ]
  },
  {
   "cell_type": "markdown",
   "id": "b0147eeb-d7b8-4bff-8303-eb55f255e81e",
   "metadata": {},
   "source": [
    "## Author:\n",
    "Martí Torres."
   ]
  },
  {
   "cell_type": "code",
   "execution_count": null,
   "id": "cb89a95f-a04e-4aa0-a8d7-5d76f7ebadeb",
   "metadata": {},
   "outputs": [],
   "source": []
  }
 ],
 "metadata": {
  "kernelspec": {
   "display_name": "Python",
   "language": "python",
   "name": "conda-env-python-py"
  },
  "language_info": {
   "codemirror_mode": {
    "name": "ipython",
    "version": 3
   },
   "file_extension": ".py",
   "mimetype": "text/x-python",
   "name": "python",
   "nbconvert_exporter": "python",
   "pygments_lexer": "ipython3",
   "version": "3.7.12"
  }
 },
 "nbformat": 4,
 "nbformat_minor": 5
}
